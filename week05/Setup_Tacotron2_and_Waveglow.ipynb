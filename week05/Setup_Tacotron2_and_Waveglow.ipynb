{
 "cells": [
  {
   "cell_type": "markdown",
   "metadata": {},
   "source": [
    "## Synthesizing Abritrary speech with Tacotron2 and WaveGlow\n",
    "\n",
    "NVIDIA Implementation. \n",
    "\n",
    "https://github.com/NVIDIA/tacotron2"
   ]
  },
  {
   "cell_type": "code",
   "execution_count": 3,
   "metadata": {},
   "outputs": [
    {
     "ename": "SyntaxError",
     "evalue": "EOL while scanning string literal (<ipython-input-3-7e49a2fa0cc0>, line 3)",
     "output_type": "error",
     "traceback": [
      "\u001b[0;36m  File \u001b[0;32m\"<ipython-input-3-7e49a2fa0cc0>\"\u001b[0;36m, line \u001b[0;32m3\u001b[0m\n\u001b[0;31m    basedir = os.path.join(os.path.expanduser(\"~\"), \"ml-art-code/week6/\"\")\u001b[0m\n\u001b[0m                                                                          ^\u001b[0m\n\u001b[0;31mSyntaxError\u001b[0m\u001b[0;31m:\u001b[0m EOL while scanning string literal\n"
     ]
    }
   ],
   "source": [
    "import os, os.path\n",
    "\n",
    "basedir = os.path.join(os.path.expanduser(\"~\"), \"ml-art-code/week6/\"\")\n",
    "os.chdir(basedir)\n",
    "\n",
    "tacotrondir = os.path.join(basedir, \"tacotron2\")\n",
    "\n",
    "if not os.path.exists(tacotrondir):\n",
    "    !git clone https://github.com/NVIDIA/tacotron2.git\n",
    "\n",
    "os.chdir(tacotrondir)\n",
    "\n",
    "!git submodule init\n",
    "!git submodule update\n",
    "\n",
    "# install NVIDIA apex\n",
    "if not os.path.exists(\"apex\"):       \n",
    "    !git clone https://github.com/NVIDIA/apex"
   ]
  },
  {
   "cell_type": "markdown",
   "metadata": {},
   "source": [
    "### Install dependencies\n",
    "\n",
    "Create a waveglow conda environment. In terminal: \n",
    "\n",
    "Needs Torch 1.0.2.post\n",
    "\n",
    "```\n",
    "conda deactivate\n",
    "conda create --name waveglow\n",
    "\n",
    "```\n",
    "\n",
    "Restart jupyter kernel to use your new conda environment. \n",
    "\n",
    "\n",
    "Run in terminal:\n",
    "\n",
    "__Install Apex__:\n",
    "```\n",
    "export XDG_CACHE_HOME=/datasets/home/90/490/$(whoami)/.cache\n",
    "cd apex\n",
    "pip install -v --no-cache-dir . --user\n",
    "```\n",
    "\n",
    "__Install tacotron2 python requirements__:\n",
    "```\n",
    "cd ..\n",
    "pip install -r requirements.txt --user\n",
    "```\n",
    "\n",
    "May have an error about matplotlib... "
   ]
  },
  {
   "cell_type": "markdown",
   "metadata": {},
   "source": [
    "## Install Pretrained Checkpoints\n",
    "\n",
    "1. Install the published tacotron2 checkpoint `tacotron2_statedict.pt`\n",
    "  - https://drive.google.com/file/d/1c5ZTuT7J08wLUoVZ2KkUs_VdZuJ86ZqA/view\n",
    "  - download then upload to this tacotron2 directory on datahub.ucsd.edu\n",
    "2. Install the published waveglow model `waveglow_256channels.pt`\n",
    "  - https://drive.google.com/uc?export=download&confirm=unOo&id=1WsibBTsuRg_SF2Z6L6NFRTT-NjEy1oTx\n",
    "  - download, then reupload to this tacotron2 directory on datahub.ucsd.edu\n"
   ]
  },
  {
   "cell_type": "markdown",
   "metadata": {},
   "source": [
    "## Let's Synthesize!\n",
    "\n",
    "Open [inference_tacotron2_waveglow.ipynb](inference_tacotron2_waveglow.ipynb)\n"
   ]
  },
  {
   "cell_type": "code",
   "execution_count": null,
   "metadata": {},
   "outputs": [],
   "source": []
  }
 ],
 "metadata": {
  "kernelspec": {
   "display_name": "Python 3",
   "language": "python",
   "name": "python3"
  },
  "language_info": {
   "codemirror_mode": {
    "name": "ipython",
    "version": 3
   },
   "file_extension": ".py",
   "mimetype": "text/x-python",
   "name": "python",
   "nbconvert_exporter": "python",
   "pygments_lexer": "ipython3",
   "version": "3.6.8"
  }
 },
 "nbformat": 4,
 "nbformat_minor": 2
}
