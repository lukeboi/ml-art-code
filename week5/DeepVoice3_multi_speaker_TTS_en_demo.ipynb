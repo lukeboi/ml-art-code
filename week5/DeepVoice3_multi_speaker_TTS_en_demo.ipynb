{
 "cells": [
  {
   "cell_type": "markdown",
   "metadata": {
    "colab_type": "text",
    "id": "Za124iWvdMsZ"
   },
   "source": [
    "# DeepVoice3: Multi-speaker text-to-speech demo\n",
    "\n",
    "In this notebook, you can try DeepVoice3-based multi-speaker text-to-speech (en) using a model trained on [VCTK dataset](http://homepages.inf.ed.ac.uk/jyamagis/page3/page58/page58.html). \n",
    "\n",
    "Originally written for [google colab](https://colab.research.google.com/github/r9y9/Colaboratory/blob/master/DeepVoice3_single_speaker_TTS_en_demo.ipynb), this code has been adapted to run on datahub.ucsd.edu for ECE188."
   ]
  },
  {
   "cell_type": "markdown",
   "metadata": {
    "colab_type": "text",
    "id": "ml6wOhwqhGiI"
   },
   "source": [
    "## Setup"
   ]
  },
  {
   "cell_type": "markdown",
   "metadata": {
    "colab_type": "text",
    "id": "QjindPTItq75"
   },
   "source": [
    "### Install dependencies"
   ]
  },
  {
   "cell_type": "code",
   "execution_count": null,
   "metadata": {
    "colab": {},
    "colab_type": "code",
    "id": "kemMMs6pg9Rv"
   },
   "outputs": [],
   "source": [
    "import os\n",
    "from os.path import exists, join, expanduser"
   ]
  },
  {
   "cell_type": "markdown",
   "metadata": {},
   "source": [
    "Clone deepvoice3_pytorch:"
   ]
  },
  {
   "cell_type": "code",
   "execution_count": null,
   "metadata": {},
   "outputs": [],
   "source": [
    "name = \"deepvoice3_pytorch\"\n",
    "if not exists(name):\n",
    "  ! git clone https://github.com/r9y9/$name"
   ]
  },
  {
   "cell_type": "code",
   "execution_count": null,
   "metadata": {},
   "outputs": [],
   "source": [
    "%pwd\n",
    "%cd $name"
   ]
  },
  {
   "cell_type": "markdown",
   "metadata": {},
   "source": [
    "## Install requirements\n",
    "\n",
    "*Note: This repository uses pytorch v0.3.1. (0.4.1 works too)*\n",
    "\n",
    "If you have not already done it, run the following in terminal to create a pytorch conda environment and install v0.3.1:\n",
    "\n",
    "```\n",
    "conda create --name deepvoice\n",
    "conda instal pip\n",
    "pip install --user torch==0.3.1\n",
    "pip install --user -e '.[bin]'\n",
    "```\n",
    "\n",
    "After you have switched to the conda deepvoice environment, restart the kernel here: _Kernel->Restart_."
   ]
  },
  {
   "cell_type": "markdown",
   "metadata": {},
   "source": [
    "Now continue with this notebook."
   ]
  },
  {
   "cell_type": "code",
   "execution_count": null,
   "metadata": {
    "colab": {},
    "colab_type": "code",
    "id": "X6VFmDe-ideo"
   },
   "outputs": [],
   "source": [
    "%pylab inline\n",
    "#! pip install -q librosa nltk\n",
    "\n",
    "import torch\n",
    "import numpy as np\n",
    "import librosa\n",
    "import librosa.display\n",
    "import IPython\n",
    "from IPython.display import Audio\n",
    "\n",
    "# need this for English text processing frontend\n",
    "import nltk\n",
    "! python -m nltk.downloader cmudict"
   ]
  },
  {
   "cell_type": "markdown",
   "metadata": {
    "colab_type": "text",
    "id": "_l1Gd2SStt0E"
   },
   "source": [
    "### Download a pre-trained model"
   ]
  },
  {
   "cell_type": "code",
   "execution_count": null,
   "metadata": {
    "colab": {},
    "colab_type": "code",
    "id": "42Zwjr4UjNn_"
   },
   "outputs": [],
   "source": [
    "checkpoint_path = \"20171222_deepvoice3_vctk108_checkpoint_step000300000.pth\""
   ]
  },
  {
   "cell_type": "code",
   "execution_count": null,
   "metadata": {
    "colab": {},
    "colab_type": "code",
    "id": "45Wrp8INj6Xu"
   },
   "outputs": [],
   "source": [
    "if not exists(checkpoint_path):\n",
    "  !curl -O -L \"https://www.dropbox.com/s/uzmtzgcedyu531k/20171222_deepvoice3_vctk108_checkpoint_step000300000.pth\""
   ]
  },
  {
   "cell_type": "markdown",
   "metadata": {
    "colab_type": "text",
    "id": "pbN0Kuo43G4U"
   },
   "source": [
    "### git checkout to the working commit"
   ]
  },
  {
   "cell_type": "code",
   "execution_count": null,
   "metadata": {
    "colab": {},
    "colab_type": "code",
    "id": "Pqu6dICruu56"
   },
   "outputs": [],
   "source": [
    "# Copy preset file (json) from master\n",
    "# The preset file describes hyper parameters\n",
    "! git checkout master --quiet\n",
    "preset = \"./presets/deepvoice3_vctk.json\"\n",
    "! cp -v $preset .\n",
    "preset = \"./deepvoice3_vctk.json\"\n",
    "\n",
    "# And then git checkout to the working commit\n",
    "# This is due to the model was trained a few months ago and it's not compatible\n",
    "# with the current master. \n",
    "! git checkout 0421749 --quiet\n",
    "\n",
    "#RUN IN TERMINAL:\n",
    "#! pip install -e '.[train]'"
   ]
  },
  {
   "cell_type": "markdown",
   "metadata": {},
   "source": [
    "Install the model. \n",
    "\n",
    "In the terminal:\n",
    "```\n",
    "pip install -e --user '.[train]'\n",
    "```"
   ]
  },
  {
   "cell_type": "markdown",
   "metadata": {},
   "source": [
    "## Fix runtime error: \n",
    "\n",
    "Edit `__init__.py`, to comment out `from .version import __version__` line."
   ]
  },
  {
   "cell_type": "markdown",
   "metadata": {
    "colab_type": "text",
    "id": "_yJ90ESZiT_S"
   },
   "source": [
    "## Synthesis"
   ]
  },
  {
   "cell_type": "markdown",
   "metadata": {
    "colab_type": "text",
    "id": "FUyhiJg03dj6"
   },
   "source": [
    "### Setup hyper parameters"
   ]
  },
  {
   "cell_type": "code",
   "execution_count": null,
   "metadata": {
    "colab": {},
    "colab_type": "code",
    "id": "E9sLuYgcnbZb"
   },
   "outputs": [],
   "source": [
    "import hparams\n",
    "import json\n",
    "\n",
    "# Newly added params. Need to inject dummy values\n",
    "for dummy, v in [(\"fmin\", 0), (\"fmax\", 0), (\"rescaling\", False),\n",
    "                 (\"rescaling_max\", 0.999), \n",
    "                 (\"allow_clipping_in_normalization\", False)]:\n",
    "  if hparams.hparams.get(dummy) is None:\n",
    "    hparams.hparams.add_hparam(dummy, v)\n",
    "    \n",
    "# Load parameters from preset\n",
    "with open(preset) as f:\n",
    "  hparams.hparams.parse_json(f.read())\n",
    "\n",
    "# Tell we are using multi-speaker DeepVoice3\n",
    "hparams.hparams.builder = \"deepvoice3_multispeaker\"\n",
    "  \n",
    "# Inject frontend text processor\n",
    "import synthesis\n",
    "import train\n",
    "from deepvoice3_pytorch import frontend\n",
    "synthesis._frontend = getattr(frontend, \"en\")\n",
    "train._frontend =  getattr(frontend, \"en\")\n",
    "\n",
    "# alises\n",
    "fs = hparams.hparams.sample_rate\n",
    "hop_length = hparams.hparams.hop_size"
   ]
  },
  {
   "cell_type": "markdown",
   "metadata": {
    "colab_type": "text",
    "id": "C4NOldY83wG1"
   },
   "source": [
    "### Define utility functions"
   ]
  },
  {
   "cell_type": "code",
   "execution_count": null,
   "metadata": {
    "colab": {},
    "colab_type": "code",
    "id": "xRbelGLjiSfA"
   },
   "outputs": [],
   "source": [
    "def tts(model, text, p=0, speaker_id=0, fast=True, figures=True):\n",
    "  from synthesis import tts as _tts\n",
    "  waveform, alignment, spectrogram, mel = _tts(model, text, p, speaker_id, fast)\n",
    "  if figures:\n",
    "      visualize(alignment, spectrogram)\n",
    "  IPython.display.display(Audio(waveform, rate=fs))\n",
    "  \n",
    "def visualize(alignment, spectrogram):\n",
    "  label_fontsize = 16\n",
    "  figure(figsize=(16,16))\n",
    "\n",
    "  subplot(2,1,1)\n",
    "  imshow(alignment.T, aspect=\"auto\", origin=\"lower\", interpolation=None)\n",
    "  xlabel(\"Decoder timestamp\", fontsize=label_fontsize)\n",
    "  ylabel(\"Encoder timestamp\", fontsize=label_fontsize)\n",
    "  colorbar()\n",
    "\n",
    "  subplot(2,1,2)\n",
    "  librosa.display.specshow(spectrogram.T, sr=fs, \n",
    "                           hop_length=hop_length, x_axis=\"time\", y_axis=\"linear\")\n",
    "  xlabel(\"Time\", fontsize=label_fontsize)\n",
    "  ylabel(\"Hz\", fontsize=label_fontsize)\n",
    "  tight_layout()\n",
    "  colorbar()"
   ]
  },
  {
   "cell_type": "markdown",
   "metadata": {
    "colab_type": "text",
    "id": "m2jmbSD430Ws"
   },
   "source": [
    "### Load the model checkpoint"
   ]
  },
  {
   "cell_type": "code",
   "execution_count": null,
   "metadata": {
    "colab": {},
    "colab_type": "code",
    "id": "lr8pgqtYhvav"
   },
   "outputs": [],
   "source": [
    "from train import build_model\n",
    "from train import restore_parts, load_checkpoint\n",
    "\n",
    "model = build_model()\n",
    "model = load_checkpoint(checkpoint_path, model, None, True)"
   ]
  },
  {
   "cell_type": "markdown",
   "metadata": {
    "colab_type": "text",
    "id": "DOJ3miW63ywA"
   },
   "source": [
    "### Generate speech"
   ]
  },
  {
   "cell_type": "code",
   "execution_count": null,
   "metadata": {},
   "outputs": [],
   "source": [
    "%pwd\n",
    "%cd deepvoice3_pytorch"
   ]
  },
  {
   "cell_type": "code",
   "execution_count": null,
   "metadata": {
    "colab": {},
    "colab_type": "code",
    "id": "GR1XRy-ykbz_"
   },
   "outputs": [],
   "source": [
    "# Try your favorite senteneces:)\n",
    "text = \"Some have accepted this as a miracle without any physical explanation\"\n",
    "N = 15\n",
    "print(\"Synthesizing \\\"{}\\\" with {} different speakers\".format(text, N))\n",
    "for speaker_id in range(N):\n",
    "  print(speaker_id)\n",
    "  tts(model, text, speaker_id=speaker_id, figures=False)"
   ]
  },
  {
   "cell_type": "code",
   "execution_count": null,
   "metadata": {
    "colab": {},
    "colab_type": "code",
    "id": "nirMEf2J5Roy"
   },
   "outputs": [],
   "source": [
    "# With attention plot\n",
    "tts(model, text, speaker_id=0, figures=True)"
   ]
  },
  {
   "cell_type": "markdown",
   "metadata": {
    "colab_type": "text",
    "id": "ArQspYbs5Aoo"
   },
   "source": [
    "## References\n",
    "- Code: https://github.com/r9y9/deepvoice3_pytorch\n",
    "- Audio samples: https://r9y9.github.io/deepvoice3_pytorch/\n",
    "- For details, please visit https://github.com/r9y9/deepvoice3_pytorch"
   ]
  }
 ],
 "metadata": {
  "accelerator": "GPU",
  "colab": {
   "collapsed_sections": [],
   "name": "DeepVoice3 multi-speaker TTS en demo.ipynb",
   "private_outputs": true,
   "provenance": [],
   "toc_visible": true,
   "version": "0.3.2"
  },
  "kernelspec": {
   "display_name": "Python 3",
   "language": "python",
   "name": "python3"
  },
  "language_info": {
   "codemirror_mode": {
    "name": "ipython",
    "version": 3
   },
   "file_extension": ".py",
   "mimetype": "text/x-python",
   "name": "python",
   "nbconvert_exporter": "python",
   "pygments_lexer": "ipython3",
   "version": "3.7.3"
  }
 },
 "nbformat": 4,
 "nbformat_minor": 1
}
