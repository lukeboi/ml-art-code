{
 "cells": [
  {
   "cell_type": "markdown",
   "metadata": {},
   "source": [
    "# MNIST Digit Recognition\n",
    "Dense Network:\n",
    "- Input Layer (28x28, flattened)\n",
    "- Dense Layer (512 nodes, ReLU)\n",
    "  - Dropout (0.2)\n",
    "- Dense Layer (10 nodes, softmax)\n",
    "\n",
    "Training Parameters:\n",
    "- Optimizer: Adam [Adam: A Method for Stochastic Optimization](https://arxiv.org/abs/1412.6980v8)\n",
    "- Loss: Sparse Categorical Crossentropy \n",
    "- Metric: Accuracy\n",
    "\n",
    "Training Data: \n",
    "- MNIST Digits (from [tf.keras.datasets](https://www.tensorflow.org/versions/r1.14/api_docs/python/tf/keras/datasets))\n",
    "- Handwritten digits, 28 x 28 pixel grayscale images"
   ]
  },
  {
   "cell_type": "code",
   "execution_count": 1,
   "metadata": {},
   "outputs": [
    {
     "name": "stderr",
     "output_type": "stream",
     "text": [
      "WARNING: Logging before flag parsing goes to stderr.\n",
      "W1007 05:10:35.740803 140637706065728 deprecation.py:506] From /opt/conda/lib/python3.7/site-packages/tensorflow/python/ops/init_ops.py:1251: calling VarianceScaling.__init__ (from tensorflow.python.ops.init_ops) with dtype is deprecated and will be removed in a future version.\n",
      "Instructions for updating:\n",
      "Call initializer instance with the dtype argument instead of passing it to the constructor\n"
     ]
    },
    {
     "name": "stdout",
     "output_type": "stream",
     "text": [
      "Epoch 1/5\n",
      "60000/60000 [==============================] - 5s 83us/sample - loss: 0.2217 - acc: 0.9345\n",
      "Epoch 2/5\n",
      "60000/60000 [==============================] - 5s 81us/sample - loss: 0.0962 - acc: 0.9707\n",
      "Epoch 3/5\n",
      "60000/60000 [==============================] - 4s 71us/sample - loss: 0.0690 - acc: 0.9791\n",
      "Epoch 4/5\n",
      "60000/60000 [==============================] - 4s 73us/sample - loss: 0.0538 - acc: 0.9826\n",
      "Epoch 5/5\n",
      "60000/60000 [==============================] - 4s 69us/sample - loss: 0.0422 - acc: 0.9860\n",
      "10000/10000 [==============================] - 0s 43us/sample - loss: 0.0683 - acc: 0.9793\n"
     ]
    },
    {
     "data": {
      "text/plain": [
       "[0.06834787531294279, 0.9793]"
      ]
     },
     "execution_count": 1,
     "metadata": {},
     "output_type": "execute_result"
    }
   ],
   "source": [
    "import tensorflow as tf\n",
    "mnist = tf.keras.datasets.mnist\n",
    "\n",
    "(x_train, y_train),(x_test, y_test) = mnist.load_data()\n",
    "x_train, x_test = x_train / 255.0, x_test / 255.0\n",
    "\n",
    "model = tf.keras.models.Sequential([\n",
    "  tf.keras.layers.Flatten(input_shape=(28, 28)),\n",
    "  tf.keras.layers.Dense(512, activation=tf.nn.relu),\n",
    "  tf.keras.layers.Dropout(0.2),\n",
    "  tf.keras.layers.Dense(10, activation=tf.nn.softmax)\n",
    "])\n",
    "model.compile(optimizer='adam',\n",
    "              loss='sparse_categorical_crossentropy',\n",
    "              metrics=['accuracy'])\n",
    "\n",
    "model.fit(x_train, y_train, epochs=5)\n",
    "model.evaluate(x_test, y_test)"
   ]
  },
  {
   "cell_type": "code",
   "execution_count": null,
   "metadata": {},
   "outputs": [],
   "source": []
  }
 ],
 "metadata": {
  "kernelspec": {
   "display_name": "Python 3",
   "language": "python",
   "name": "python3"
  },
  "language_info": {
   "codemirror_mode": {
    "name": "ipython",
    "version": 3
   },
   "file_extension": ".py",
   "mimetype": "text/x-python",
   "name": "python",
   "nbconvert_exporter": "python",
   "pygments_lexer": "ipython3",
   "version": "3.7.3"
  }
 },
 "nbformat": 4,
 "nbformat_minor": 2
}
