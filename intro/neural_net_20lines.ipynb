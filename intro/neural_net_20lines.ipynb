{
 "cells": [
  {
   "cell_type": "markdown",
   "metadata": {},
   "source": [
    "# Training a 2-Layer Neural Network in 20 lines\n",
    "\n",
    "From Stanford CSE231n http://cs231n.stanford.edu/slides/2019/cs231n_2019_lecture04.pdf"
   ]
  },
  {
   "cell_type": "code",
   "execution_count": null,
   "metadata": {},
   "outputs": [],
   "source": [
    "import numpy as np\n",
    "from numpy.random import randn\n",
    "\n",
    "N, D_in, H, D_out = 64, 1000, 100, 10 \n",
    "x, y = randn(N, D_in), randn(N, D_out)\n",
    "w1, w2 = randn(D_in, H), randn(H, D_out)\n",
    "\n",
    "for t in range(2000):\n",
    "    h = 1 / (1 + np.exp(-x.dot(w1))) # hidden layer activations\n",
    "    y_pred = h.dot(w2) # output activations\n",
    "    loss = np.square(y_pred - y).sum() # squared error\n",
    "    if t % 20 == 0:\n",
    "        print(t, loss)\n",
    "    \n",
    "    grad_y_pred = 2.0 * (y_pred - y) # derivative of 1/(y_p-y)^2\n",
    "    grad_w2 = h.T.dot(grad_y_pred)\n",
    "    grad_h = grad_y_pred.dot(w2.T)\n",
    "    grad_w1 = x.T.dot(grad_h * h * (1 - h))\n",
    "    \n",
    "    w1 -= 1e-4 * grad_w1 # 1e-04 is learning rate (0.0001)\n",
    "    w2 -= 1e-4 * grad_w2"
   ]
  },
  {
   "cell_type": "code",
   "execution_count": null,
   "metadata": {},
   "outputs": [],
   "source": []
  }
 ],
 "metadata": {
  "kernelspec": {
   "display_name": "Python 3 (ipykernel)",
   "language": "python",
   "name": "python3"
  },
  "language_info": {
   "codemirror_mode": {
    "name": "ipython",
    "version": 3
   },
   "file_extension": ".py",
   "mimetype": "text/x-python",
   "name": "python",
   "nbconvert_exporter": "python",
   "pygments_lexer": "ipython3",
   "version": "3.9.7"
  }
 },
 "nbformat": 4,
 "nbformat_minor": 4
}
